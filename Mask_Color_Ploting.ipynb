{
 "cells": [
  {
   "cell_type": "markdown",
   "id": "e38574a6",
   "metadata": {},
   "source": [
    "## Importing Libraries"
   ]
  },
  {
   "cell_type": "code",
   "execution_count": 1,
   "id": "3f7514dd",
   "metadata": {},
   "outputs": [],
   "source": [
    "import cv2\n",
    "import os\n",
    "import numpy as np\n",
    "import glob"
   ]
  },
  {
   "cell_type": "markdown",
   "id": "e5a3c1b7",
   "metadata": {},
   "source": [
    "## Defining Colors for Each Classes of Masks"
   ]
  },
  {
   "cell_type": "code",
   "execution_count": 2,
   "id": "53be67bf",
   "metadata": {},
   "outputs": [],
   "source": [
    "# rgb = (size[0], size[1], 3)\n",
    "colors = [[255, 0, 0],        # Player (Red)  \n",
    "        [255, 0, 255],      # Referee (Pink)\n",
    "        [255,204,92],       # GoalKeeper (offwhite)\n",
    "        [255, 255, 255],    # Ball     \n",
    "        [0, 0, 0],          # woodwork (Black)\n",
    "        [64, 64, 64],       # Sign Board (Yellow)\n",
    "        [0, 0, 100],        # Crowd\n",
    "        [110,100,170],      # Title\n",
    "        [0, 0, 200],        # Background  \n",
    "        [0, 255, 0],        # Inside Field (Green)\n",
    "        [0, 0, 150],        # Outside Field (Green)\n",
    "        [255, 255, 190],    # mid Field\n",
    "        [0, 100, 0],        # Half-field \n",
    "        [255, 255, 0],      # Arc-D\n",
    "        [150, 0, 255],      # Goalibox\n",
    "        [255, 200, 0],      # Center circle \n",
    "        [0, 150, 255],      # penalty area left \n",
    "    ]"
   ]
  },
  {
   "cell_type": "code",
   "execution_count": 3,
   "id": "cada5a25",
   "metadata": {},
   "outputs": [],
   "source": [
    "def decode_segmap(temp):\n",
    "#     print(temp.shape)\n",
    "    r = temp[:,:,0].copy()\n",
    "#     print(\"shape of R\",r.shape)\n",
    "    g = temp[:,:,0].copy()\n",
    "    b = temp[:,:,0].copy()\n",
    "    for l in range(0, 16):\n",
    "#         print(colors[l][0])\n",
    "#         print(l)\n",
    "        b[temp[:,:,0] == l] = colors[l][0]\n",
    "        g[temp[:,:,0] == l] = colors[l][1]\n",
    "        r[temp[:,:,0] == l] = colors[l][2]\n",
    "\n",
    "    rgb = np.zeros((temp.shape[0], temp.shape[1], 3))\n",
    "    rgb[:, :, 0] = r\n",
    "    rgb[:, :, 1] = g \n",
    "    rgb[:, :, 2] = b \n",
    "    return rgb\n"
   ]
  },
  {
   "cell_type": "markdown",
   "id": "1cded4c4",
   "metadata": {},
   "source": [
    "## Reading Masks and Assigning Colors to each class and save into seperate folder"
   ]
  },
  {
   "cell_type": "code",
   "execution_count": 4,
   "id": "7870c5c5",
   "metadata": {},
   "outputs": [
    {
     "name": "stdout",
     "output_type": "stream",
     "text": [
      "Bilbao_1031_1107_152805_650_Mix_1.2K_A-L_12_Cam_F_frame_0517.png\n",
      "(2160, 3840, 3)\n",
      "Bilbao_1031_1107_152805_650_Mix_1.2K_A-L_12_Cam_F_frame_0545.png\n",
      "(2160, 3840, 3)\n",
      "Bilbao_1031_1107_152805_650_Mix_1.2K_A-L_12_Cam_F_frame_0579.png\n",
      "(2160, 3840, 3)\n",
      "Bilbao_1031_1107_152805_650_Mix_1.2K_A-L_12_Cam_G_frame_0697.png\n",
      "(2160, 3840, 3)\n",
      "Bilbao_1031_1107_152805_650_Mix_1.2K_A-L_12_Cam_I_frame_0816.png\n",
      "(2160, 3840, 3)\n",
      "Bilbao_1031_1107_163034_131_Mix_1.8K_A-L_13_Cam_C_frame_0448.png\n",
      "(2160, 3840, 3)\n",
      "Bilbao_1031_1107_163034_131_Mix_1.8K_A-L_13_Cam_I_frame_1238.png\n",
      "(2160, 3840, 3)\n",
      "Bilbao_175943_1.65K_A-L_4_Camera_E_frame_0695.png\n",
      "(2160, 3840, 3)\n",
      "Bilbao_175943_1.65K_A-L_4_Camera_F_frame_0753.png\n",
      "(2160, 3840, 3)\n",
      "Bilbao_175943_1.65K_A-L_4_Camera_G_frame_0999.png\n",
      "(2160, 3840, 3)\n"
     ]
    }
   ],
   "source": [
    "imgs=glob.glob('val/*.png')\n",
    "out_dir='mask_ploting_output'\n",
    "os.makedirs(out_dir,exist_ok=True)\n",
    "for i in imgs:\n",
    "    frame = cv2.imread(i)\n",
    "    name = os.path.basename(i)\n",
    "    print(name)\n",
    "    print(frame.shape)\n",
    "# grab the image dimensions\n",
    "#     print(set(frame.ravel()))\n",
    "#     print(np.unique(frame))\n",
    "    frame_color = decode_segmap(frame)\n",
    "    cv2.imwrite(out_dir+'/'+name, frame_color)"
   ]
  },
  {
   "cell_type": "markdown",
   "id": "2b685e4f",
   "metadata": {},
   "source": [
    "## Writing video of output Masks"
   ]
  },
  {
   "cell_type": "code",
   "execution_count": 5,
   "id": "5800b4ed",
   "metadata": {},
   "outputs": [
    {
     "name": "stderr",
     "output_type": "stream",
     "text": [
      "1it [00:00,  5.82it/s]"
     ]
    },
    {
     "name": "stdout",
     "output_type": "stream",
     "text": [
      "Bilbao_1031_1107_152805_650_Mix_1.2K_A-L_12_Cam_F_frame_0517.png\n",
      "(2160, 3840, 3)\n",
      "Bilbao_1031_1107_152805_650_Mix_1.2K_A-L_12_Cam_F_frame_0545.png\n"
     ]
    },
    {
     "name": "stderr",
     "output_type": "stream",
     "text": [
      "\r",
      "2it [00:00,  5.63it/s]"
     ]
    },
    {
     "name": "stdout",
     "output_type": "stream",
     "text": [
      "(2160, 3840, 3)\n",
      "Bilbao_1031_1107_152805_650_Mix_1.2K_A-L_12_Cam_F_frame_0579.png\n",
      "(2160, 3840, 3)\n"
     ]
    },
    {
     "name": "stderr",
     "output_type": "stream",
     "text": [
      "4it [00:00,  5.70it/s]"
     ]
    },
    {
     "name": "stdout",
     "output_type": "stream",
     "text": [
      "Bilbao_1031_1107_152805_650_Mix_1.2K_A-L_12_Cam_G_frame_0697.png\n",
      "(2160, 3840, 3)\n",
      "Bilbao_1031_1107_152805_650_Mix_1.2K_A-L_12_Cam_I_frame_0816.png\n"
     ]
    },
    {
     "name": "stderr",
     "output_type": "stream",
     "text": [
      "\r",
      "5it [00:00,  5.64it/s]"
     ]
    },
    {
     "name": "stdout",
     "output_type": "stream",
     "text": [
      "(2160, 3840, 3)\n",
      "Bilbao_1031_1107_163034_131_Mix_1.8K_A-L_13_Cam_C_frame_0448.png\n",
      "(2160, 3840, 3)\n"
     ]
    },
    {
     "name": "stderr",
     "output_type": "stream",
     "text": [
      "7it [00:01,  5.29it/s]"
     ]
    },
    {
     "name": "stdout",
     "output_type": "stream",
     "text": [
      "Bilbao_1031_1107_163034_131_Mix_1.8K_A-L_13_Cam_I_frame_1238.png\n",
      "(2160, 3840, 3)\n"
     ]
    },
    {
     "name": "stderr",
     "output_type": "stream",
     "text": [
      "\r",
      "8it [00:01,  5.26it/s]"
     ]
    },
    {
     "name": "stdout",
     "output_type": "stream",
     "text": [
      "Bilbao_175943_1.65K_A-L_4_Camera_E_frame_0695.png\n",
      "(2160, 3840, 3)\n"
     ]
    },
    {
     "name": "stderr",
     "output_type": "stream",
     "text": [
      "\r",
      "9it [00:01,  5.31it/s]"
     ]
    },
    {
     "name": "stdout",
     "output_type": "stream",
     "text": [
      "Bilbao_175943_1.65K_A-L_4_Camera_F_frame_0753.png\n",
      "(2160, 3840, 3)\n"
     ]
    },
    {
     "name": "stderr",
     "output_type": "stream",
     "text": [
      "\r",
      "10it [00:01,  5.24it/s]"
     ]
    },
    {
     "name": "stdout",
     "output_type": "stream",
     "text": [
      "Bilbao_175943_1.65K_A-L_4_Camera_G_frame_0999.png\n",
      "(2160, 3840, 3)\n"
     ]
    },
    {
     "name": "stderr",
     "output_type": "stream",
     "text": [
      "10it [00:01,  5.41it/s]\n"
     ]
    }
   ],
   "source": [
    "import os\n",
    "import cv2\n",
    "import glob\n",
    "from tqdm import tqdm\n",
    "fourcc = cv2.VideoWriter_fourcc(*'DIVX')\n",
    "out = cv2.VideoWriter('result.avi', fourcc, 30.0, (3840,  2160))\n",
    "images = glob.glob('mask_ploting_output/*.png')\n",
    "\n",
    "for i,img in tqdm(enumerate(images)):\n",
    "    name=os.path.basename(img)\n",
    "    print(name)\n",
    "    frames=cv2.imread('mask_ploting_output/'+name)\n",
    "    print(frames.shape)\n",
    "    out.write(frames)\n",
    "out.release()"
   ]
  }
 ],
 "metadata": {
  "kernelspec": {
   "display_name": "Python 3 (ipykernel)",
   "language": "python",
   "name": "python3"
  },
  "language_info": {
   "codemirror_mode": {
    "name": "ipython",
    "version": 3
   },
   "file_extension": ".py",
   "mimetype": "text/x-python",
   "name": "python",
   "nbconvert_exporter": "python",
   "pygments_lexer": "ipython3",
   "version": "3.9.12"
  }
 },
 "nbformat": 4,
 "nbformat_minor": 5
}
